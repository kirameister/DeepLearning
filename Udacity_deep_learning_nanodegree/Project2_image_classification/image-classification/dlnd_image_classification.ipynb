{
 "cells": [
  {
   "cell_type": "markdown",
   "metadata": {
    "collapsed": true,
    "deletable": true,
    "editable": true
   },
   "source": [
    "# Image Classification\n",
    "In this project, you'll classify images from the [CIFAR-10 dataset](https://www.cs.toronto.edu/~kriz/cifar.html).  The dataset consists of airplanes, dogs, cats, and other objects. You'll preprocess the images, then train a convolutional neural network on all the samples. The images need to be normalized and the labels need to be one-hot encoded.  You'll get to apply what you learned and build a convolutional, max pooling, dropout, and fully connected layers.  At the end, you'll get to see your neural network's predictions on the sample images.\n",
    "## Get the Data\n",
    "Run the following cell to download the [CIFAR-10 dataset for python](https://www.cs.toronto.edu/~kriz/cifar-10-python.tar.gz)."
   ]
  },
  {
   "cell_type": "code",
   "execution_count": 1,
   "metadata": {
    "collapsed": false,
    "deletable": true,
    "editable": true
   },
   "outputs": [
    {
     "name": "stdout",
     "output_type": "stream",
     "text": [
      "All files found!\n"
     ]
    }
   ],
   "source": [
    "\"\"\"\n",
    "DON'T MODIFY ANYTHING IN THIS CELL THAT IS BELOW THIS LINE\n",
    "\"\"\"\n",
    "from urllib.request import urlretrieve\n",
    "from os.path import isfile, isdir\n",
    "from tqdm import tqdm\n",
    "import problem_unittests as tests\n",
    "import tarfile\n",
    "\n",
    "cifar10_dataset_folder_path = 'cifar-10-batches-py'\n",
    "\n",
    "class DLProgress(tqdm):\n",
    "    last_block = 0\n",
    "\n",
    "    def hook(self, block_num=1, block_size=1, total_size=None):\n",
    "        self.total = total_size\n",
    "        self.update((block_num - self.last_block) * block_size)\n",
    "        self.last_block = block_num\n",
    "\n",
    "if not isfile('cifar-10-python.tar.gz'):\n",
    "    with DLProgress(unit='B', unit_scale=True, miniters=1, desc='CIFAR-10 Dataset') as pbar:\n",
    "        urlretrieve(\n",
    "            'https://www.cs.toronto.edu/~kriz/cifar-10-python.tar.gz',\n",
    "            'cifar-10-python.tar.gz',\n",
    "            pbar.hook)\n",
    "\n",
    "if not isdir(cifar10_dataset_folder_path):\n",
    "    with tarfile.open('cifar-10-python.tar.gz') as tar:\n",
    "        tar.extractall()\n",
    "        tar.close()\n",
    "\n",
    "\n",
    "tests.test_folder_path(cifar10_dataset_folder_path)"
   ]
  },
  {
   "cell_type": "markdown",
   "metadata": {
    "deletable": true,
    "editable": true
   },
   "source": [
    "## Explore the Data\n",
    "The dataset is broken into batches to prevent your machine from running out of memory.  The CIFAR-10 dataset consists of 5 batches, named `data_batch_1`, `data_batch_2`, etc.. Each batch contains the labels and images that are one of the following:\n",
    "* airplane\n",
    "* automobile\n",
    "* bird\n",
    "* cat\n",
    "* deer\n",
    "* dog\n",
    "* frog\n",
    "* horse\n",
    "* ship\n",
    "* truck\n",
    "\n",
    "Understanding a dataset is part of making predictions on the data.  Play around with the code cell below by changing the `batch_id` and `sample_id`. The `batch_id` is the id for a batch (1-5). The `sample_id` is the id for a image and label pair in the batch.\n",
    "\n",
    "Ask yourself \"What are all possible labels?\", \"What is the range of values for the image data?\", \"Are the labels in order or random?\".  Answers to questions like these will help you preprocess the data and end up with better predictions."
   ]
  },
  {
   "cell_type": "code",
   "execution_count": 2,
   "metadata": {
    "collapsed": false,
    "deletable": true,
    "editable": true
   },
   "outputs": [
    {
     "name": "stdout",
     "output_type": "stream",
     "text": [
      "\n",
      "Stats of batch 2:\n",
      "Samples: 10000\n",
      "Label Counts: {0: 984, 1: 1007, 2: 1010, 3: 995, 4: 1010, 5: 988, 6: 1008, 7: 1026, 8: 987, 9: 985}\n",
      "First 20 Labels: [1, 6, 6, 8, 8, 3, 4, 6, 0, 6, 0, 3, 6, 6, 5, 4, 8, 3, 2, 6]\n",
      "\n",
      "Example of Image 13:\n",
      "Image - Min Value: 6 Max Value: 255\n",
      "Image - Shape: (32, 32, 3)\n",
      "Label - Label Id: 6 Name: frog\n"
     ]
    },
    {
     "data": {
      "image/png": "[encoded data removed]",
      "text/plain": [
       "<matplotlib.figure.Figure at 0x11b50f390>"
      ]
     },
     "metadata": {
      "image/png": {
       "height": 250,
       "width": 253
      }
     },
     "output_type": "display_data"
    }
   ],
   "source": [
    "%matplotlib inline\n",
    "%config InlineBackend.figure_format = 'retina'\n",
    "\n",
    "import helper\n",
    "import numpy as np\n",
    "\n",
    "# Explore the dataset\n",
    "batch_id = 2\n",
    "sample_id = 13\n",
    "helper.display_stats(cifar10_dataset_folder_path, batch_id, sample_id)"
   ]
  },
  {
   "cell_type": "markdown",
   "metadata": {
    "deletable": true,
    "editable": true
   },
   "source": [
    "## Implement Preprocess Functions\n",
    "### Normalize\n",
    "In the cell below, implement the `normalize` function to take in image data, `x`, and return it as a normalized Numpy array. The values should be in the range of 0 to 1, inclusive.  The return object should be the same shape as `x`."
   ]
  },
  {
   "cell_type": "code",
   "execution_count": 3,
   "metadata": {
    "collapsed": false,
    "deletable": true,
    "editable": true
   },
   "outputs": [
    {
     "name": "stdout",
     "output_type": "stream",
     "text": [
      "Tests Passed\n"
     ]
    }
   ],
   "source": [
    "def normalize(x):\n",
    "    \"\"\"\n",
    "    Normalize a list of sample image data in the range of 0 to 1\n",
    "    : x: List of image data.  The image shape is (32, 32, 3)\n",
    "    : return: Numpy array of normalize data\n",
    "    \"\"\"\n",
    "    # TODO: Implement Function\n",
    "    return x/255\n",
    "\n",
    "\n",
    "\"\"\"\n",
    "DON'T MODIFY ANYTHING IN THIS CELL THAT IS BELOW THIS LINE\n",
    "\"\"\"\n",
    "tests.test_normalize(normalize)"
   ]
  },
  {
   "cell_type": "markdown",
   "metadata": {
    "deletable": true,
    "editable": true
   },
   "source": [
    "### One-hot encode\n",
    "Just like the previous code cell, you'll be implementing a function for preprocessing.  This time, you'll implement the `one_hot_encode` function. The input, `x`, are a list of labels.  Implement the function to return the list of labels as One-Hot encoded Numpy array.  The possible values for labels are 0 to 9. The one-hot encoding function should return the same encoding for each value between each call to `one_hot_encode`.  Make sure to save the map of encodings outside the function.\n",
    "\n",
    "Hint: Don't reinvent the wheel."
   ]
  },
  {
   "cell_type": "code",
   "execution_count": 4,
   "metadata": {
    "collapsed": false,
    "deletable": true,
    "editable": true
   },
   "outputs": [
    {
     "name": "stdout",
     "output_type": "stream",
     "text": [
      "Tests Passed\n"
     ]
    }
   ],
   "source": [
    "from sklearn.preprocessing import LabelBinarizer\n",
    "\n",
    "def one_hot_encode(x):\n",
    "    \"\"\"\n",
    "    One hot encode a list of sample labels. Return a one-hot encoded vector for each label.\n",
    "    : x: List of sample Labels\n",
    "    : return: Numpy array of one-hot encoded labels\n",
    "    \"\"\"\n",
    "    # TODO: Implement Function\n",
    "    xnp = np.array(x)\n",
    "    lb = LabelBinarizer()\n",
    "    lb.fit([x for x in range(10)]) # the number 10 came from the instruction\n",
    "    return(lb.transform(xnp))\n",
    "\n",
    "\n",
    "\"\"\"\n",
    "DON'T MODIFY ANYTHING IN THIS CELL THAT IS BELOW THIS LINE\n",
    "\"\"\"\n",
    "tests.test_one_hot_encode(one_hot_encode)"
   ]
  },
  {
   "cell_type": "markdown",
   "metadata": {
    "deletable": true,
    "editable": true
   },
   "source": [
    "### Randomize Data\n",
    "As you saw from exploring the data above, the order of the samples are randomized.  It doesn't hurt to randomize it again, but you don't need to for this dataset."
   ]
  },
  {
   "cell_type": "markdown",
   "metadata": {
    "deletable": true,
    "editable": true
   },
   "source": [
    "## Preprocess all the data and save it\n",
    "Running the code cell below will preprocess all the CIFAR-10 data and save it to file. The code below also uses 10% of the training data for validation."
   ]
  },
  {
   "cell_type": "code",
   "execution_count": 5,
   "metadata": {
    "collapsed": false,
    "deletable": true,
    "editable": true
   },
   "outputs": [],
   "source": [
    "\"\"\"\n",
    "DON'T MODIFY ANYTHING IN THIS CELL\n",
    "\"\"\"\n",
    "# Preprocess Training, Validation, and Testing Data\n",
    "helper.preprocess_and_save_data(cifar10_dataset_folder_path, normalize, one_hot_encode)"
   ]
  },
  {
   "cell_type": "markdown",
   "metadata": {
    "deletable": true,
    "editable": true
   },
   "source": [
    "# Check Point\n",
    "This is your first checkpoint.  If you ever decide to come back to this notebook or have to restart the notebook, you can start from here.  The preprocessed data has been saved to disk."
   ]
  },
  {
   "cell_type": "code",
   "execution_count": 6,
   "metadata": {
    "collapsed": true,
    "deletable": true,
    "editable": true
   },
   "outputs": [],
   "source": [
    "\"\"\"\n",
    "DON'T MODIFY ANYTHING IN THIS CELL\n",
    "\"\"\"\n",
    "import pickle\n",
    "import problem_unittests as tests\n",
    "import helper\n",
    "\n",
    "# Load the Preprocessed Validation data\n",
    "valid_features, valid_labels = pickle.load(open('preprocess_validation.p', mode='rb'))"
   ]
  },
  {
   "cell_type": "markdown",
   "metadata": {
    "deletable": true,
    "editable": true
   },
   "source": [
    "## Build the network\n",
    "For the neural network, you'll build each layer into a function.  Most of the code you've seen has been outside of functions. To test your code more thoroughly, we require that you put each layer in a function.  This allows us to give you better feedback and test for simple mistakes using our unittests before you submit your project.\n",
    "\n",
    ">**Note:** If you're finding it hard to dedicate enough time for this course each week, we've provided a small shortcut to this part of the project. In the next couple of problems, you'll have the option to use classes from the [TensorFlow Layers](https://www.tensorflow.org/api_docs/python/tf/layers) or [TensorFlow Layers (contrib)](https://www.tensorflow.org/api_guides/python/contrib.layers) packages to build each layer, except the layers you build in the \"Convolutional and Max Pooling Layer\" section.  TF Layers is similar to Keras's and TFLearn's abstraction to layers, so it's easy to pickup.\n",
    "\n",
    ">However, if you would like to get the most out of this course, try to solve all the problems _without_ using anything from the TF Layers packages. You **can** still use classes from other packages that happen to have the same name as ones you find in TF Layers! For example, instead of using the TF Layers version of the `conv2d` class, [tf.layers.conv2d](https://www.tensorflow.org/api_docs/python/tf/layers/conv2d), you would want to use the TF Neural Network version of `conv2d`, [tf.nn.conv2d](https://www.tensorflow.org/api_docs/python/tf/nn/conv2d). \n",
    "\n",
    "Let's begin!\n",
    "\n",
    "### Input\n",
    "The neural network needs to read the image data, one-hot encoded labels, and dropout keep probability. Implement the following functions\n",
    "* Implement `neural_net_image_input`\n",
    " * Return a [TF Placeholder](https://www.tensorflow.org/api_docs/python/tf/placeholder)\n",
    " * Set the shape using `image_shape` with batch size set to `None`.\n",
    " * Name the TensorFlow placeholder \"x\" using the TensorFlow `name` parameter in the [TF Placeholder](https://www.tensorflow.org/api_docs/python/tf/placeholder).\n",
    "* Implement `neural_net_label_input`\n",
    " * Return a [TF Placeholder](https://www.tensorflow.org/api_docs/python/tf/placeholder)\n",
    " * Set the shape using `n_classes` with batch size set to `None`.\n",
    " * Name the TensorFlow placeholder \"y\" using the TensorFlow `name` parameter in the [TF Placeholder](https://www.tensorflow.org/api_docs/python/tf/placeholder).\n",
    "* Implement `neural_net_keep_prob_input`\n",
    " * Return a [TF Placeholder](https://www.tensorflow.org/api_docs/python/tf/placeholder) for dropout keep probability.\n",
    " * Name the TensorFlow placeholder \"keep_prob\" using the TensorFlow `name` parameter in the [TF Placeholder](https://www.tensorflow.org/api_docs/python/tf/placeholder).\n",
    "\n",
    "These names will be used at the end of the project to load your saved model.\n",
    "\n",
    "Note: `None` for shapes in TensorFlow allow for a dynamic size."
   ]
  },
  {
   "cell_type": "code",
   "execution_count": 7,
   "metadata": {
    "collapsed": false,
    "deletable": true,
    "editable": true
   },
   "outputs": [
    {
     "name": "stdout",
     "output_type": "stream",
     "text": [
      "Image Input Tests Passed.\n",
      "Label Input Tests Passed.\n",
      "Keep Prob Tests Passed.\n"
     ]
    }
   ],
   "source": [
    "import tensorflow as tf\n",
    "\n",
    "def neural_net_image_input(image_shape):\n",
    "    \"\"\"\n",
    "    Return a Tensor for a bach of image input\n",
    "    : image_shape: Shape of the images\n",
    "    : return: Tensor for image input.\n",
    "    \"\"\"\n",
    "    # TODO: Implement Function\n",
    "    # In our context, the size should be equal to weight * height * number_of_colors(RGB) of given input image\n",
    "    tf_input = tf.placeholder(tf.float32, name=\"x\", shape=[None, image_shape[0], image_shape[1], image_shape[2]])\n",
    "    return(tf_input)\n",
    "\n",
    "\n",
    "def neural_net_label_input(n_classes):\n",
    "    \"\"\"\n",
    "    Return a Tensor for a batch of label input\n",
    "    : n_classes: Number of classes\n",
    "    : return: Tensor for label input.\n",
    "    \"\"\"\n",
    "    # TODO: Implement Function\n",
    "    # In our context, the number of classes should be 10\n",
    "    tf_classes = tf.placeholder(tf.float32, name=\"y\", shape=[None, n_classes])\n",
    "    return(tf_classes)\n",
    "\n",
    "\n",
    "def neural_net_keep_prob_input():\n",
    "    \"\"\"\n",
    "    Return a Tensor for keep probability\n",
    "    : return: Tensor for keep probability.\n",
    "    \"\"\"\n",
    "    # TODO: Implement Function\n",
    "    tf_prob = tf.placeholder(tf.float32, name=\"keep_prob\", shape=None)\n",
    "    return(tf_prob)\n",
    "\n",
    "\n",
    "\"\"\"\n",
    "DON'T MODIFY ANYTHING IN THIS CELL THAT IS BELOW THIS LINE\n",
    "\"\"\"\n",
    "tf.reset_default_graph()\n",
    "tests.test_nn_image_inputs(neural_net_image_input)\n",
    "tests.test_nn_label_inputs(neural_net_label_input)\n",
    "tests.test_nn_keep_prob_inputs(neural_net_keep_prob_input)"
   ]
  },
  {
   "cell_type": "markdown",
   "metadata": {
    "deletable": true,
    "editable": true
   },
   "source": [
    "### Convolution and Max Pooling Layer\n",
    "Convolution layers have a lot of success with images. For this code cell, you should implement the function `conv2d_maxpool` to apply convolution then max pooling:\n",
    "* Create the weight and bias using `conv_ksize`, `conv_num_outputs` and the shape of `x_tensor`.\n",
    "* Apply a convolution to `x_tensor` using weight and `conv_strides`.\n",
    " * We recommend you use same padding, but you're welcome to use any padding.\n",
    "* Add bias\n",
    "* Add a nonlinear activation to the convolution.\n",
    "* Apply Max Pooling using `pool_ksize` and `pool_strides`.\n",
    " * We recommend you use same padding, but you're welcome to use any padding.\n",
    "\n",
    "**Note:** You **can't** use [TensorFlow Layers](https://www.tensorflow.org/api_docs/python/tf/layers) or [TensorFlow Layers (contrib)](https://www.tensorflow.org/api_guides/python/contrib.layers) for **this** layer, but you can still use TensorFlow's [Neural Network](https://www.tensorflow.org/api_docs/python/tf/nn) package. You may still use the shortcut option for all the **other** layers."
   ]
  },
  {
   "cell_type": "code",
   "execution_count": 8,
   "metadata": {
    "collapsed": false,
    "deletable": true,
    "editable": true
   },
   "outputs": [
    {
     "name": "stdout",
     "output_type": "stream",
     "text": [
      "Tests Passed\n"
     ]
    }
   ],
   "source": [
    "def conv2d_maxpool(x_tensor, conv_num_outputs, conv_ksize, conv_strides, pool_ksize, pool_strides):\n",
    "    \"\"\"\n",
    "    Apply convolution then max pooling to x_tensor\n",
    "    :param x_tensor: TensorFlow Tensor\n",
    "    :param conv_num_outputs: Number of outputs for the convolutional layer\n",
    "    :param conv_ksize: kernal size 2-D Tuple for the convolutional layer\n",
    "    :param conv_strides: Stride 2-D Tuple for convolution\n",
    "    :param pool_ksize: kernal size 2-D Tuple for pool\n",
    "    :param pool_strides: Stride 2-D Tuple for pool\n",
    "    : return: A tensor that represents convolution and max pooling of x_tensor\n",
    "    \"\"\"\n",
    "    # TODO: Implement Function\n",
    "    # Create the weight and bias using `conv_ksize`, `conv_num_outputs` and the shape of `x_tensor`.\n",
    "    #  obtain the depth of input -- should be fine with [2] in our very cotext\n",
    "    layer_depth = int(x_tensor.get_shape().as_list()[-1])\n",
    "    #  create the initial weights of convolutional NN (size of filter W and H are given by argument)\n",
    "    weights_template = [conv_ksize[0], conv_ksize[1], layer_depth, conv_num_outputs]\n",
    "    #  stddev argument is used in order to avoid local optimal (took quite a while to figure out..). \n",
    "    weights = tf.Variable(tf.truncated_normal(weights_template, stddev=1.0/(conv_ksize[0]*conv_ksize[1])))\n",
    "    #  create bias for each convolutional filter\n",
    "    bias = tf.Variable(tf.zeros(conv_num_outputs))\n",
    "    \n",
    "    # Apply a convolution to `x_tensor` using weight and `conv_strides`.\n",
    "    #  set the value of W- and H-strides conv_strides=[BATCH, H, W, INPUT_CHANNELS], where BATCH and INPUT_CHANNELS should be set to 1 by default. \n",
    "    conv_strides = [1, conv_strides[0], conv_strides[1], 1]\n",
    "    convolved_layer = tf.nn.conv2d(x_tensor, weights, conv_strides, padding=\"SAME\")\n",
    "    # Add bias\n",
    "    convolved_layer = tf.nn.bias_add(convolved_layer, bias)    \n",
    "    \n",
    "    # Add a nonlinear activation to the convolution.\n",
    "    activated_convolved_layer = tf.nn.relu(convolved_layer)\n",
    "    \n",
    "    # Apply Max Pooling using `pool_ksize` and `pool_strides`.\n",
    "    filter_shape = [1, pool_ksize[0], pool_ksize[1], 1]\n",
    "    pool_strides = [1, pool_strides[0], pool_strides[1], 1]\n",
    "    return_pool = tf.nn.max_pool(activated_convolved_layer, \n",
    "                                 ksize = filter_shape, \n",
    "                                 strides = pool_strides, \n",
    "                                 padding = \"SAME\")    \n",
    "    return(return_pool)\n",
    "\n",
    "\n",
    "\"\"\"\n",
    "DON'T MODIFY ANYTHING IN THIS CELL THAT IS BELOW THIS LINE\n",
    "\"\"\"\n",
    "tests.test_con_pool(conv2d_maxpool)"
   ]
  },
  {
   "cell_type": "markdown",
   "metadata": {
    "deletable": true,
    "editable": true
   },
   "source": [
    "### Flatten Layer\n",
    "Implement the `flatten` function to change the dimension of `x_tensor` from a 4-D tensor to a 2-D tensor.  The output should be the shape (*Batch Size*, *Flattened Image Size*). Shortcut option: you can use classes from the [TensorFlow Layers](https://www.tensorflow.org/api_docs/python/tf/layers) or [TensorFlow Layers (contrib)](https://www.tensorflow.org/api_guides/python/contrib.layers) packages for this layer. For more of a challenge, only use other TensorFlow packages."
   ]
  },
  {
   "cell_type": "code",
   "execution_count": 9,
   "metadata": {
    "collapsed": false,
    "deletable": true,
    "editable": true
   },
   "outputs": [
    {
     "name": "stdout",
     "output_type": "stream",
     "text": [
      "Tests Passed\n"
     ]
    }
   ],
   "source": [
    "def flatten(x_tensor):\n",
    "    \"\"\"\n",
    "    Flatten x_tensor to (Batch Size, Flattened Image Size)\n",
    "    : x_tensor: A tensor of size (Batch Size, ...), where ... are the image dimensions.\n",
    "    : return: A tensor of size (Batch Size, Flattened Image Size).\n",
    "    \"\"\"\n",
    "    # TODO: Implement Function\n",
    "    return(tf.contrib.layers.flatten(x_tensor))\n",
    "\n",
    "\n",
    "\"\"\"\n",
    "DON'T MODIFY ANYTHING IN THIS CELL THAT IS BELOW THIS LINE\n",
    "\"\"\"\n",
    "tests.test_flatten(flatten)"
   ]
  },
  {
   "cell_type": "markdown",
   "metadata": {
    "deletable": true,
    "editable": true
   },
   "source": [
    "### Fully-Connected Layer\n",
    "Implement the `fully_conn` function to apply a fully connected layer to `x_tensor` with the shape (*Batch Size*, *num_outputs*). Shortcut option: you can use classes from the [TensorFlow Layers](https://www.tensorflow.org/api_docs/python/tf/layers) or [TensorFlow Layers (contrib)](https://www.tensorflow.org/api_guides/python/contrib.layers) packages for this layer. For more of a challenge, only use other TensorFlow packages."
   ]
  },
  {
   "cell_type": "code",
   "execution_count": 10,
   "metadata": {
    "collapsed": false,
    "deletable": true,
    "editable": true
   },
   "outputs": [
    {
     "name": "stdout",
     "output_type": "stream",
     "text": [
      "Tests Passed\n"
     ]
    }
   ],
   "source": [
    "def fully_conn(x_tensor, num_outputs):\n",
    "    \"\"\"\n",
    "    Apply a fully connected layer to x_tensor using weight and bias\n",
    "    : x_tensor: A 2-D tensor where the first dimension is batch size.\n",
    "    : num_outputs: The number of output that the new tensor should be.\n",
    "    : return: A 2-D tensor where the second dimension is num_outputs.\n",
    "    \"\"\"\n",
    "    # TODO: Implement Function\n",
    "    return(tf.contrib.layers.fully_connected(x_tensor, num_outputs, activation_fn=tf.nn.relu))\n",
    "\n",
    "\n",
    "\"\"\"\n",
    "DON'T MODIFY ANYTHING IN THIS CELL THAT IS BELOW THIS LINE\n",
    "\"\"\"\n",
    "tests.test_fully_conn(fully_conn)"
   ]
  },
  {
   "cell_type": "markdown",
   "metadata": {
    "deletable": true,
    "editable": true
   },
   "source": [
    "### Output Layer\n",
    "Implement the `output` function to apply a fully connected layer to `x_tensor` with the shape (*Batch Size*, *num_outputs*). Shortcut option: you can use classes from the [TensorFlow Layers](https://www.tensorflow.org/api_docs/python/tf/layers) or [TensorFlow Layers (contrib)](https://www.tensorflow.org/api_guides/python/contrib.layers) packages for this layer. For more of a challenge, only use other TensorFlow packages.\n",
    "\n",
    "**Note:** Activation, softmax, or cross entropy should **not** be applied to this."
   ]
  },
  {
   "cell_type": "code",
   "execution_count": 11,
   "metadata": {
    "collapsed": false,
    "deletable": true,
    "editable": true
   },
   "outputs": [
    {
     "name": "stdout",
     "output_type": "stream",
     "text": [
      "Tests Passed\n"
     ]
    }
   ],
   "source": [
    "def output(x_tensor, num_outputs):\n",
    "    \"\"\"\n",
    "    Apply a output layer to x_tensor using weight and bias\n",
    "    : x_tensor: A 2-D tensor where the first dimension is batch size.\n",
    "    : num_outputs: The number of output that the new tensor should be.\n",
    "    : return: A 2-D tensor where the second dimension is num_outputs.\n",
    "    \"\"\"\n",
    "    # TODO: Implement Function\n",
    "    return(tf.contrib.layers.fully_connected(x_tensor, num_outputs, activation_fn=None))\n",
    "\n",
    "\n",
    "\"\"\"\n",
    "DON'T MODIFY ANYTHING IN THIS CELL THAT IS BELOW THIS LINE\n",
    "\"\"\"\n",
    "tests.test_output(output)"
   ]
  },
  {
   "cell_type": "markdown",
   "metadata": {
    "deletable": true,
    "editable": true
   },
   "source": [
    "### Create Convolutional Model\n",
    "Implement the function `conv_net` to create a convolutional neural network model. The function takes in a batch of images, `x`, and outputs logits.  Use the layers you created above to create this model:\n",
    "\n",
    "* Apply 1, 2, or 3 Convolution and Max Pool layers\n",
    "* Apply a Flatten Layer\n",
    "* Apply 1, 2, or 3 Fully Connected Layers\n",
    "* Apply an Output Layer\n",
    "* Return the output\n",
    "* Apply [TensorFlow's Dropout](https://www.tensorflow.org/api_docs/python/tf/nn/dropout) to one or more layers in the model using `keep_prob`. "
   ]
  },
  {
   "cell_type": "code",
   "execution_count": 12,
   "metadata": {
    "collapsed": false,
    "deletable": true,
    "editable": true
   },
   "outputs": [
    {
     "name": "stdout",
     "output_type": "stream",
     "text": [
      "Neural Network Built!\n"
     ]
    }
   ],
   "source": [
    "def conv_net(x, keep_prob):\n",
    "    \"\"\"\n",
    "    Create a convolutional neural network model\n",
    "    : x: Placeholder tensor that holds image data.\n",
    "    : keep_prob: Placeholder tensor that hold dropout keep probability.\n",
    "    : return: Tensor that represents logits\n",
    "    \"\"\"\n",
    "    # TODO: Apply 1, 2, or 3 Convolution and Max Pool layers\n",
    "    #    Play around with different number of outputs, kernel size and stride\n",
    "    # Function Definition from Above:\n",
    "    #    conv2d_maxpool(x_tensor, conv_num_outputs, conv_ksize, conv_strides, pool_ksize, pool_strides)\n",
    "    x_tensor = x\n",
    "    # number of outputs to be larger as we'd like to have \"deeper\" (= abstract) representation as we progress\n",
    "    conv_num_outputs = 6\n",
    "    conv_strides     = (1,1)\n",
    "    pool_ksize       = (2,2)\n",
    "    pool_strides     = (1,1)\n",
    "    conv_ksize       = (3,3)\n",
    "    x_tensor = conv2d_maxpool(x_tensor, conv_num_outputs, conv_ksize, conv_strides, pool_ksize, pool_strides)\n",
    "    conv_num_outputs = 12\n",
    "    x_tensor = conv2d_maxpool(x_tensor, conv_num_outputs, conv_ksize, conv_strides, pool_ksize, pool_strides)\n",
    "    conv_num_outputs = 18\n",
    "    x_tensor = conv2d_maxpool(x_tensor, conv_num_outputs, conv_ksize, conv_strides, pool_ksize, pool_strides)\n",
    "\n",
    "    \n",
    "    # TODO: Apply a Flatten Layer\n",
    "    # Function Definition from Above:\n",
    "    #   flatten(x_tensor)\n",
    "    x_tensor = flatten(x_tensor)\n",
    "    \n",
    "\n",
    "    # TODO: Apply 1, 2, or 3 Fully Connected Layers\n",
    "    #    Play around with different number of outputs\n",
    "    # Function Definition from Above:\n",
    "    #   fully_conn(x_tensor, num_outputs)\n",
    "    # first hidden layer\n",
    "    x_tensor = fully_conn(x_tensor, 250)\n",
    "    x_tensor = tf.nn.dropout(x_tensor, keep_prob)\n",
    "    # second hidden layer\n",
    "    x_tensor = fully_conn(x_tensor, 50)\n",
    "    x_tensor = tf.nn.dropout(x_tensor, keep_prob)\n",
    "    # third (last) hidden layer\n",
    "    x_tensor = fully_conn(x_tensor, 25)\n",
    "    x_tensor = tf.nn.dropout(x_tensor, keep_prob)\n",
    "\n",
    "    \n",
    "    \n",
    "    # TODO: Apply an Output Layer\n",
    "    #    Set this to the number of classes\n",
    "    # Function Definition from Above:\n",
    "    #   output(x_tensor, num_outputs)\n",
    "    num_outputs = 10 # number of classes in output layer; we use 10 as we have 10 pre-defined labels\n",
    "    x_tensor = output(x_tensor, num_outputs)\n",
    "    \n",
    "    \n",
    "    # TODO: return output\n",
    "    return(x_tensor)\n",
    "\n",
    "\n",
    "\"\"\"\n",
    "DON'T MODIFY ANYTHING IN THIS CELL THAT IS BELOW THIS LINE\n",
    "\"\"\"\n",
    "\n",
    "##############################\n",
    "## Build the Neural Network ##\n",
    "##############################\n",
    "\n",
    "# Remove previous weights, bias, inputs, etc..\n",
    "tf.reset_default_graph()\n",
    "\n",
    "# Inputs\n",
    "x = neural_net_image_input((32, 32, 3))\n",
    "y = neural_net_label_input(10)\n",
    "keep_prob = neural_net_keep_prob_input()\n",
    "\n",
    "# Model\n",
    "logits = conv_net(x, keep_prob)\n",
    "\n",
    "# Name logits Tensor, so that is can be loaded from disk after training\n",
    "logits = tf.identity(logits, name='logits')\n",
    "\n",
    "# Loss and Optimizer\n",
    "cost = tf.reduce_mean(tf.nn.softmax_cross_entropy_with_logits(logits=logits, labels=y))\n",
    "optimizer = tf.train.AdamOptimizer().minimize(cost)\n",
    "\n",
    "# Accuracy\n",
    "correct_pred = tf.equal(tf.argmax(logits, 1), tf.argmax(y, 1))\n",
    "accuracy = tf.reduce_mean(tf.cast(correct_pred, tf.float32), name='accuracy')\n",
    "\n",
    "tests.test_conv_net(conv_net)"
   ]
  },
  {
   "cell_type": "markdown",
   "metadata": {
    "deletable": true,
    "editable": true
   },
   "source": [
    "## Train the Neural Network\n",
    "### Single Optimization\n",
    "Implement the function `train_neural_network` to do a single optimization.  The optimization should use `optimizer` to optimize in `session` with a `feed_dict` of the following:\n",
    "* `x` for image input\n",
    "* `y` for labels\n",
    "* `keep_prob` for keep probability for dropout\n",
    "\n",
    "This function will be called for each batch, so `tf.global_variables_initializer()` has already been called.\n",
    "\n",
    "Note: Nothing needs to be returned. This function is only optimizing the neural network."
   ]
  },
  {
   "cell_type": "code",
   "execution_count": 13,
   "metadata": {
    "collapsed": false,
    "deletable": true,
    "editable": true
   },
   "outputs": [
    {
     "name": "stdout",
     "output_type": "stream",
     "text": [
      "Tests Passed\n"
     ]
    }
   ],
   "source": [
    "def train_neural_network(session, optimizer, keep_probability, feature_batch, label_batch):\n",
    "    \"\"\"\n",
    "    Optimize the session on a batch of images and labels\n",
    "    : session: Current TensorFlow session\n",
    "    : optimizer: TensorFlow optimizer function\n",
    "    : keep_probability: keep probability\n",
    "    : feature_batch: Batch of Numpy image data\n",
    "    : label_batch: Batch of Numpy label data\n",
    "    \"\"\"\n",
    "    # TODO: Implement Function\n",
    "    session.run(optimizer, feed_dict={x:feature_batch, y:label_batch, keep_prob:keep_probability})\n",
    "\n",
    "\n",
    "\"\"\"\n",
    "DON'T MODIFY ANYTHING IN THIS CELL THAT IS BELOW THIS LINE\n",
    "\"\"\"\n",
    "tests.test_train_nn(train_neural_network)"
   ]
  },
  {
   "cell_type": "markdown",
   "metadata": {
    "deletable": true,
    "editable": true
   },
   "source": [
    "### Show Stats\n",
    "Implement the function `print_stats` to print loss and validation accuracy.  Use the global variables `valid_features` and `valid_labels` to calculate validation accuracy.  Use a keep probability of `1.0` to calculate the loss and validation accuracy."
   ]
  },
  {
   "cell_type": "code",
   "execution_count": 14,
   "metadata": {
    "collapsed": false,
    "deletable": true,
    "editable": true
   },
   "outputs": [],
   "source": [
    "def print_stats(session, feature_batch, label_batch, cost, accuracy):\n",
    "    \"\"\"\n",
    "    Print information about loss and validation accuracy\n",
    "    : session: Current TensorFlow session\n",
    "    : feature_batch: Batch of Numpy image data\n",
    "    : label_batch: Batch of Numpy label data\n",
    "    : cost: TensorFlow cost function\n",
    "    : accuracy: TensorFlow accuracy function\n",
    "    \"\"\"\n",
    "    # TODO: Implement Function\n",
    "    train_cost, train_acc = session.run([cost, accuracy], feed_dict={keep_prob:1, x:feature_batch, y:label_batch})\n",
    "    validation_cost, validation_acc = session.run([cost, accuracy], feed_dict={keep_prob:1, x:valid_features, y:valid_labels})\n",
    "    print(\"TRAIN_COST={:0.3f} TRAIN_ACC={:0.3f}\\tVALI_COST={:0.3f} VALI_ACC={:0.3f}\".format(train_cost, train_acc, validation_cost, validation_acc))"
   ]
  },
  {
   "cell_type": "markdown",
   "metadata": {
    "deletable": true,
    "editable": true
   },
   "source": [
    "### Hyperparameters\n",
    "Tune the following parameters:\n",
    "* Set `epochs` to the number of iterations until the network stops learning or start overfitting\n",
    "* Set `batch_size` to the highest number that your machine has memory for.  Most people set them to common sizes of memory:\n",
    " * 64\n",
    " * 128\n",
    " * 256\n",
    " * ...\n",
    "* Set `keep_probability` to the probability of keeping a node using dropout"
   ]
  },
  {
   "cell_type": "code",
   "execution_count": 15,
   "metadata": {
    "collapsed": true,
    "deletable": true,
    "editable": true
   },
   "outputs": [],
   "source": [
    "# TODO: Tune Parameters\n",
    "epochs = 30 # as suggested in the project feedback. \n",
    "batch_size = 2048\n",
    "keep_probability = 0.5 # half of the outputs (in any hidden nodes) are ignored"
   ]
  },
  {
   "cell_type": "markdown",
   "metadata": {
    "deletable": true,
    "editable": true
   },
   "source": [
    "### Train on a Single CIFAR-10 Batch\n",
    "Instead of training the neural network on all the CIFAR-10 batches of data, let's use a single batch. This should save time while you iterate on the model to get a better accuracy.  Once the final validation accuracy is 50% or greater, run the model on all the data in the next section."
   ]
  },
  {
   "cell_type": "code",
   "execution_count": 16,
   "metadata": {
    "collapsed": false,
    "deletable": true,
    "editable": true,
    "scrolled": true
   },
   "outputs": [
    {
     "name": "stdout",
     "output_type": "stream",
     "text": [
      "Checking the Training on a Single Batch...\n",
      "Epoch  1, CIFAR-10 Batch 1:  TRAIN_COST=2.288 TRAIN_ACC=0.131\tVALI_COST=2.287 VALI_ACC=0.140\n",
      "Epoch  2, CIFAR-10 Batch 1:  TRAIN_COST=2.254 TRAIN_ACC=0.173\tVALI_COST=2.252 VALI_ACC=0.186\n",
      "Epoch  3, CIFAR-10 Batch 1:  TRAIN_COST=2.204 TRAIN_ACC=0.184\tVALI_COST=2.199 VALI_ACC=0.196\n",
      "Epoch  4, CIFAR-10 Batch 1:  TRAIN_COST=2.179 TRAIN_ACC=0.226\tVALI_COST=2.176 VALI_ACC=0.226\n",
      "Epoch  5, CIFAR-10 Batch 1:  TRAIN_COST=2.174 TRAIN_ACC=0.238\tVALI_COST=2.169 VALI_ACC=0.239\n",
      "Epoch  6, CIFAR-10 Batch 1:  TRAIN_COST=2.133 TRAIN_ACC=0.296\tVALI_COST=2.131 VALI_ACC=0.283\n",
      "Epoch  7, CIFAR-10 Batch 1:  TRAIN_COST=2.073 TRAIN_ACC=0.280\tVALI_COST=2.078 VALI_ACC=0.283\n",
      "Epoch  8, CIFAR-10 Batch 1:  TRAIN_COST=2.030 TRAIN_ACC=0.280\tVALI_COST=2.035 VALI_ACC=0.283\n",
      "Epoch  9, CIFAR-10 Batch 1:  TRAIN_COST=1.997 TRAIN_ACC=0.332\tVALI_COST=2.003 VALI_ACC=0.311\n",
      "Epoch 10, CIFAR-10 Batch 1:  TRAIN_COST=1.982 TRAIN_ACC=0.302\tVALI_COST=1.991 VALI_ACC=0.305\n",
      "Epoch 11, CIFAR-10 Batch 1:  TRAIN_COST=1.940 TRAIN_ACC=0.325\tVALI_COST=1.953 VALI_ACC=0.329\n",
      "Epoch 12, CIFAR-10 Batch 1:  TRAIN_COST=1.854 TRAIN_ACC=0.366\tVALI_COST=1.888 VALI_ACC=0.340\n",
      "Epoch 13, CIFAR-10 Batch 1:  TRAIN_COST=1.816 TRAIN_ACC=0.374\tVALI_COST=1.856 VALI_ACC=0.338\n",
      "Epoch 14, CIFAR-10 Batch 1:  TRAIN_COST=1.775 TRAIN_ACC=0.425\tVALI_COST=1.821 VALI_ACC=0.369\n",
      "Epoch 15, CIFAR-10 Batch 1:  TRAIN_COST=1.776 TRAIN_ACC=0.425\tVALI_COST=1.814 VALI_ACC=0.382\n",
      "Epoch 16, CIFAR-10 Batch 1:  TRAIN_COST=1.737 TRAIN_ACC=0.441\tVALI_COST=1.786 VALI_ACC=0.408\n",
      "Epoch 17, CIFAR-10 Batch 1:  TRAIN_COST=1.672 TRAIN_ACC=0.462\tVALI_COST=1.733 VALI_ACC=0.419\n",
      "Epoch 18, CIFAR-10 Batch 1:  TRAIN_COST=1.607 TRAIN_ACC=0.479\tVALI_COST=1.684 VALI_ACC=0.430\n",
      "Epoch 19, CIFAR-10 Batch 1:  TRAIN_COST=1.596 TRAIN_ACC=0.502\tVALI_COST=1.696 VALI_ACC=0.426\n",
      "Epoch 20, CIFAR-10 Batch 1:  TRAIN_COST=1.570 TRAIN_ACC=0.476\tVALI_COST=1.660 VALI_ACC=0.428\n",
      "Epoch 21, CIFAR-10 Batch 1:  TRAIN_COST=1.514 TRAIN_ACC=0.545\tVALI_COST=1.633 VALI_ACC=0.456\n",
      "Epoch 22, CIFAR-10 Batch 1:  TRAIN_COST=1.459 TRAIN_ACC=0.562\tVALI_COST=1.592 VALI_ACC=0.471\n",
      "Epoch 23, CIFAR-10 Batch 1:  TRAIN_COST=1.452 TRAIN_ACC=0.564\tVALI_COST=1.602 VALI_ACC=0.473\n",
      "Epoch 24, CIFAR-10 Batch 1:  TRAIN_COST=1.475 TRAIN_ACC=0.559\tVALI_COST=1.638 VALI_ACC=0.448\n",
      "Epoch 25, CIFAR-10 Batch 1:  TRAIN_COST=1.399 TRAIN_ACC=0.564\tVALI_COST=1.578 VALI_ACC=0.465\n",
      "Epoch 26, CIFAR-10 Batch 1:  TRAIN_COST=1.361 TRAIN_ACC=0.563\tVALI_COST=1.539 VALI_ACC=0.480\n",
      "Epoch 27, CIFAR-10 Batch 1:  TRAIN_COST=1.319 TRAIN_ACC=0.608\tVALI_COST=1.511 VALI_ACC=0.498\n",
      "Epoch 28, CIFAR-10 Batch 1:  TRAIN_COST=1.295 TRAIN_ACC=0.598\tVALI_COST=1.501 VALI_ACC=0.498\n",
      "Epoch 29, CIFAR-10 Batch 1:  TRAIN_COST=1.298 TRAIN_ACC=0.614\tVALI_COST=1.530 VALI_ACC=0.492\n",
      "Epoch 30, CIFAR-10 Batch 1:  TRAIN_COST=1.260 TRAIN_ACC=0.625\tVALI_COST=1.497 VALI_ACC=0.497\n"
     ]
    }
   ],
   "source": [
    "\"\"\"\n",
    "DON'T MODIFY ANYTHING IN THIS CELL\n",
    "\"\"\"\n",
    "print('Checking the Training on a Single Batch...')\n",
    "with tf.Session() as sess:\n",
    "    # Initializing the variables\n",
    "    sess.run(tf.global_variables_initializer())\n",
    "    \n",
    "    # Training cycle\n",
    "    for epoch in range(epochs):\n",
    "        batch_i = 1\n",
    "        for batch_features, batch_labels in helper.load_preprocess_training_batch(batch_i, batch_size):\n",
    "            train_neural_network(sess, optimizer, keep_probability, batch_features, batch_labels)\n",
    "        print('Epoch {:>2}, CIFAR-10 Batch {}:  '.format(epoch + 1, batch_i), end='')\n",
    "        print_stats(sess, batch_features, batch_labels, cost, accuracy)"
   ]
  },
  {
   "cell_type": "markdown",
   "metadata": {
    "deletable": true,
    "editable": true
   },
   "source": [
    "### Fully Train the Model\n",
    "Now that you got a good accuracy with a single CIFAR-10 batch, try it with all five batches."
   ]
  },
  {
   "cell_type": "code",
   "execution_count": 17,
   "metadata": {
    "collapsed": false,
    "deletable": true,
    "editable": true
   },
   "outputs": [
    {
     "name": "stdout",
     "output_type": "stream",
     "text": [
      "Training...\n",
      "Epoch  1, CIFAR-10 Batch 1:  TRAIN_COST=2.299 TRAIN_ACC=0.161\tVALI_COST=2.300 VALI_ACC=0.150\n",
      "Epoch  1, CIFAR-10 Batch 2:  TRAIN_COST=2.290 TRAIN_ACC=0.217\tVALI_COST=2.290 VALI_ACC=0.220\n",
      "Epoch  1, CIFAR-10 Batch 3:  TRAIN_COST=2.245 TRAIN_ACC=0.277\tVALI_COST=2.250 VALI_ACC=0.249\n",
      "Epoch  1, CIFAR-10 Batch 4:  TRAIN_COST=2.205 TRAIN_ACC=0.245\tVALI_COST=2.215 VALI_ACC=0.229\n",
      "Epoch  1, CIFAR-10 Batch 5:  TRAIN_COST=2.185 TRAIN_ACC=0.264\tVALI_COST=2.171 VALI_ACC=0.274\n",
      "Epoch  2, CIFAR-10 Batch 1:  TRAIN_COST=2.114 TRAIN_ACC=0.304\tVALI_COST=2.118 VALI_ACC=0.310\n",
      "Epoch  2, CIFAR-10 Batch 2:  TRAIN_COST=2.090 TRAIN_ACC=0.295\tVALI_COST=2.076 VALI_ACC=0.305\n",
      "Epoch  2, CIFAR-10 Batch 3:  TRAIN_COST=2.035 TRAIN_ACC=0.332\tVALI_COST=2.055 VALI_ACC=0.313\n",
      "Epoch  2, CIFAR-10 Batch 4:  TRAIN_COST=2.021 TRAIN_ACC=0.335\tVALI_COST=2.034 VALI_ACC=0.330\n",
      "Epoch  2, CIFAR-10 Batch 5:  TRAIN_COST=2.011 TRAIN_ACC=0.328\tVALI_COST=1.999 VALI_ACC=0.335\n",
      "Epoch  3, CIFAR-10 Batch 1:  TRAIN_COST=1.923 TRAIN_ACC=0.389\tVALI_COST=1.948 VALI_ACC=0.368\n",
      "Epoch  3, CIFAR-10 Batch 2:  TRAIN_COST=1.937 TRAIN_ACC=0.340\tVALI_COST=1.918 VALI_ACC=0.358\n",
      "Epoch  3, CIFAR-10 Batch 3:  TRAIN_COST=1.872 TRAIN_ACC=0.374\tVALI_COST=1.898 VALI_ACC=0.371\n",
      "Epoch  3, CIFAR-10 Batch 4:  TRAIN_COST=1.842 TRAIN_ACC=0.407\tVALI_COST=1.879 VALI_ACC=0.371\n",
      "Epoch  3, CIFAR-10 Batch 5:  TRAIN_COST=1.829 TRAIN_ACC=0.395\tVALI_COST=1.826 VALI_ACC=0.386\n",
      "Epoch  4, CIFAR-10 Batch 1:  TRAIN_COST=1.757 TRAIN_ACC=0.431\tVALI_COST=1.798 VALI_ACC=0.392\n",
      "Epoch  4, CIFAR-10 Batch 2:  TRAIN_COST=1.803 TRAIN_ACC=0.405\tVALI_COST=1.800 VALI_ACC=0.415\n",
      "Epoch  4, CIFAR-10 Batch 3:  TRAIN_COST=1.720 TRAIN_ACC=0.425\tVALI_COST=1.761 VALI_ACC=0.422\n",
      "Epoch  4, CIFAR-10 Batch 4:  TRAIN_COST=1.667 TRAIN_ACC=0.457\tVALI_COST=1.730 VALI_ACC=0.423\n",
      "Epoch  4, CIFAR-10 Batch 5:  TRAIN_COST=1.723 TRAIN_ACC=0.441\tVALI_COST=1.746 VALI_ACC=0.424\n",
      "Epoch  5, CIFAR-10 Batch 1:  TRAIN_COST=1.642 TRAIN_ACC=0.468\tVALI_COST=1.687 VALI_ACC=0.429\n",
      "Epoch  5, CIFAR-10 Batch 2:  TRAIN_COST=1.675 TRAIN_ACC=0.442\tVALI_COST=1.691 VALI_ACC=0.442\n",
      "Epoch  5, CIFAR-10 Batch 3:  TRAIN_COST=1.603 TRAIN_ACC=0.484\tVALI_COST=1.652 VALI_ACC=0.455\n",
      "Epoch  5, CIFAR-10 Batch 4:  TRAIN_COST=1.559 TRAIN_ACC=0.479\tVALI_COST=1.636 VALI_ACC=0.453\n",
      "Epoch  5, CIFAR-10 Batch 5:  TRAIN_COST=1.579 TRAIN_ACC=0.490\tVALI_COST=1.621 VALI_ACC=0.466\n",
      "Epoch  6, CIFAR-10 Batch 1:  TRAIN_COST=1.554 TRAIN_ACC=0.485\tVALI_COST=1.628 VALI_ACC=0.457\n",
      "Epoch  6, CIFAR-10 Batch 2:  TRAIN_COST=1.576 TRAIN_ACC=0.498\tVALI_COST=1.614 VALI_ACC=0.462\n",
      "Epoch  6, CIFAR-10 Batch 3:  TRAIN_COST=1.486 TRAIN_ACC=0.509\tVALI_COST=1.569 VALI_ACC=0.470\n",
      "Epoch  6, CIFAR-10 Batch 4:  TRAIN_COST=1.493 TRAIN_ACC=0.528\tVALI_COST=1.605 VALI_ACC=0.473\n",
      "Epoch  6, CIFAR-10 Batch 5:  TRAIN_COST=1.495 TRAIN_ACC=0.526\tVALI_COST=1.565 VALI_ACC=0.478\n",
      "Epoch  7, CIFAR-10 Batch 1:  TRAIN_COST=1.487 TRAIN_ACC=0.530\tVALI_COST=1.556 VALI_ACC=0.483\n",
      "Epoch  7, CIFAR-10 Batch 2:  TRAIN_COST=1.512 TRAIN_ACC=0.507\tVALI_COST=1.568 VALI_ACC=0.477\n",
      "Epoch  7, CIFAR-10 Batch 3:  TRAIN_COST=1.394 TRAIN_ACC=0.535\tVALI_COST=1.495 VALI_ACC=0.480\n",
      "Epoch  7, CIFAR-10 Batch 4:  TRAIN_COST=1.424 TRAIN_ACC=0.550\tVALI_COST=1.543 VALI_ACC=0.495\n",
      "Epoch  7, CIFAR-10 Batch 5:  TRAIN_COST=1.411 TRAIN_ACC=0.548\tVALI_COST=1.506 VALI_ACC=0.484\n",
      "Epoch  8, CIFAR-10 Batch 1:  TRAIN_COST=1.409 TRAIN_ACC=0.574\tVALI_COST=1.490 VALI_ACC=0.503\n",
      "Epoch  8, CIFAR-10 Batch 2:  TRAIN_COST=1.413 TRAIN_ACC=0.553\tVALI_COST=1.493 VALI_ACC=0.506\n",
      "Epoch  8, CIFAR-10 Batch 3:  TRAIN_COST=1.316 TRAIN_ACC=0.567\tVALI_COST=1.431 VALI_ACC=0.506\n",
      "Epoch  8, CIFAR-10 Batch 4:  TRAIN_COST=1.329 TRAIN_ACC=0.577\tVALI_COST=1.472 VALI_ACC=0.511\n",
      "Epoch  8, CIFAR-10 Batch 5:  TRAIN_COST=1.295 TRAIN_ACC=0.584\tVALI_COST=1.422 VALI_ACC=0.515\n",
      "Epoch  9, CIFAR-10 Batch 1:  TRAIN_COST=1.297 TRAIN_ACC=0.574\tVALI_COST=1.411 VALI_ACC=0.523\n",
      "Epoch  9, CIFAR-10 Batch 2:  TRAIN_COST=1.343 TRAIN_ACC=0.563\tVALI_COST=1.434 VALI_ACC=0.523\n",
      "Epoch  9, CIFAR-10 Batch 3:  TRAIN_COST=1.250 TRAIN_ACC=0.584\tVALI_COST=1.388 VALI_ACC=0.517\n",
      "Epoch  9, CIFAR-10 Batch 4:  TRAIN_COST=1.276 TRAIN_ACC=0.590\tVALI_COST=1.426 VALI_ACC=0.529\n",
      "Epoch  9, CIFAR-10 Batch 5:  TRAIN_COST=1.239 TRAIN_ACC=0.604\tVALI_COST=1.383 VALI_ACC=0.529\n",
      "Epoch 10, CIFAR-10 Batch 1:  TRAIN_COST=1.224 TRAIN_ACC=0.611\tVALI_COST=1.367 VALI_ACC=0.540\n",
      "Epoch 10, CIFAR-10 Batch 2:  TRAIN_COST=1.240 TRAIN_ACC=0.585\tVALI_COST=1.363 VALI_ACC=0.539\n",
      "Epoch 10, CIFAR-10 Batch 3:  TRAIN_COST=1.188 TRAIN_ACC=0.626\tVALI_COST=1.350 VALI_ACC=0.538\n",
      "Epoch 10, CIFAR-10 Batch 4:  TRAIN_COST=1.184 TRAIN_ACC=0.615\tVALI_COST=1.363 VALI_ACC=0.533\n",
      "Epoch 10, CIFAR-10 Batch 5:  TRAIN_COST=1.201 TRAIN_ACC=0.626\tVALI_COST=1.363 VALI_ACC=0.540\n",
      "Epoch 11, CIFAR-10 Batch 1:  TRAIN_COST=1.171 TRAIN_ACC=0.610\tVALI_COST=1.333 VALI_ACC=0.536\n",
      "Epoch 11, CIFAR-10 Batch 2:  TRAIN_COST=1.207 TRAIN_ACC=0.615\tVALI_COST=1.355 VALI_ACC=0.551\n",
      "Epoch 11, CIFAR-10 Batch 3:  TRAIN_COST=1.139 TRAIN_ACC=0.629\tVALI_COST=1.338 VALI_ACC=0.529\n",
      "Epoch 11, CIFAR-10 Batch 4:  TRAIN_COST=1.139 TRAIN_ACC=0.632\tVALI_COST=1.337 VALI_ACC=0.551\n",
      "Epoch 11, CIFAR-10 Batch 5:  TRAIN_COST=1.130 TRAIN_ACC=0.629\tVALI_COST=1.318 VALI_ACC=0.551\n",
      "Epoch 12, CIFAR-10 Batch 1:  TRAIN_COST=1.108 TRAIN_ACC=0.645\tVALI_COST=1.297 VALI_ACC=0.556\n",
      "Epoch 12, CIFAR-10 Batch 2:  TRAIN_COST=1.145 TRAIN_ACC=0.618\tVALI_COST=1.311 VALI_ACC=0.553\n",
      "Epoch 12, CIFAR-10 Batch 3:  TRAIN_COST=1.078 TRAIN_ACC=0.657\tVALI_COST=1.292 VALI_ACC=0.552\n",
      "Epoch 12, CIFAR-10 Batch 4:  TRAIN_COST=1.061 TRAIN_ACC=0.649\tVALI_COST=1.286 VALI_ACC=0.551\n",
      "Epoch 12, CIFAR-10 Batch 5:  TRAIN_COST=1.093 TRAIN_ACC=0.650\tVALI_COST=1.294 VALI_ACC=0.562\n",
      "Epoch 13, CIFAR-10 Batch 1:  TRAIN_COST=1.075 TRAIN_ACC=0.658\tVALI_COST=1.288 VALI_ACC=0.552\n",
      "Epoch 13, CIFAR-10 Batch 2:  TRAIN_COST=1.097 TRAIN_ACC=0.646\tVALI_COST=1.296 VALI_ACC=0.555\n",
      "Epoch 13, CIFAR-10 Batch 3:  TRAIN_COST=1.022 TRAIN_ACC=0.671\tVALI_COST=1.270 VALI_ACC=0.554\n",
      "Epoch 13, CIFAR-10 Batch 4:  TRAIN_COST=1.037 TRAIN_ACC=0.651\tVALI_COST=1.280 VALI_ACC=0.552\n",
      "Epoch 13, CIFAR-10 Batch 5:  TRAIN_COST=1.045 TRAIN_ACC=0.689\tVALI_COST=1.277 VALI_ACC=0.566\n",
      "Epoch 14, CIFAR-10 Batch 1:  TRAIN_COST=1.025 TRAIN_ACC=0.670\tVALI_COST=1.259 VALI_ACC=0.559\n",
      "Epoch 14, CIFAR-10 Batch 2:  TRAIN_COST=1.048 TRAIN_ACC=0.647\tVALI_COST=1.276 VALI_ACC=0.563\n",
      "Epoch 14, CIFAR-10 Batch 3:  TRAIN_COST=0.990 TRAIN_ACC=0.681\tVALI_COST=1.262 VALI_ACC=0.555\n",
      "Epoch 14, CIFAR-10 Batch 4:  TRAIN_COST=0.989 TRAIN_ACC=0.658\tVALI_COST=1.254 VALI_ACC=0.556\n",
      "Epoch 14, CIFAR-10 Batch 5:  TRAIN_COST=0.993 TRAIN_ACC=0.684\tVALI_COST=1.247 VALI_ACC=0.572\n",
      "Epoch 15, CIFAR-10 Batch 1:  TRAIN_COST=0.987 TRAIN_ACC=0.689\tVALI_COST=1.240 VALI_ACC=0.572\n",
      "Epoch 15, CIFAR-10 Batch 2:  TRAIN_COST=1.003 TRAIN_ACC=0.675\tVALI_COST=1.244 VALI_ACC=0.573\n",
      "Epoch 15, CIFAR-10 Batch 3:  TRAIN_COST=0.950 TRAIN_ACC=0.696\tVALI_COST=1.253 VALI_ACC=0.565\n",
      "Epoch 15, CIFAR-10 Batch 4:  TRAIN_COST=0.971 TRAIN_ACC=0.666\tVALI_COST=1.255 VALI_ACC=0.563\n",
      "Epoch 15, CIFAR-10 Batch 5:  TRAIN_COST=0.966 TRAIN_ACC=0.707\tVALI_COST=1.238 VALI_ACC=0.585\n",
      "Epoch 16, CIFAR-10 Batch 1:  TRAIN_COST=0.929 TRAIN_ACC=0.705\tVALI_COST=1.226 VALI_ACC=0.578\n",
      "Epoch 16, CIFAR-10 Batch 2:  TRAIN_COST=0.966 TRAIN_ACC=0.683\tVALI_COST=1.232 VALI_ACC=0.576\n",
      "Epoch 16, CIFAR-10 Batch 3:  TRAIN_COST=0.952 TRAIN_ACC=0.686\tVALI_COST=1.271 VALI_ACC=0.561\n",
      "Epoch 16, CIFAR-10 Batch 4:  TRAIN_COST=0.934 TRAIN_ACC=0.705\tVALI_COST=1.247 VALI_ACC=0.567\n",
      "Epoch 16, CIFAR-10 Batch 5:  TRAIN_COST=0.934 TRAIN_ACC=0.726\tVALI_COST=1.244 VALI_ACC=0.583\n",
      "Epoch 17, CIFAR-10 Batch 1:  TRAIN_COST=0.936 TRAIN_ACC=0.694\tVALI_COST=1.235 VALI_ACC=0.572\n",
      "Epoch 17, CIFAR-10 Batch 2:  TRAIN_COST=0.943 TRAIN_ACC=0.691\tVALI_COST=1.246 VALI_ACC=0.574\n",
      "Epoch 17, CIFAR-10 Batch 3:  TRAIN_COST=0.902 TRAIN_ACC=0.712\tVALI_COST=1.227 VALI_ACC=0.575\n",
      "Epoch 17, CIFAR-10 Batch 4:  TRAIN_COST=0.911 TRAIN_ACC=0.713\tVALI_COST=1.238 VALI_ACC=0.575\n",
      "Epoch 17, CIFAR-10 Batch 5:  TRAIN_COST=0.913 TRAIN_ACC=0.726\tVALI_COST=1.248 VALI_ACC=0.569\n",
      "Epoch 18, CIFAR-10 Batch 1:  TRAIN_COST=0.932 TRAIN_ACC=0.694\tVALI_COST=1.242 VALI_ACC=0.570\n",
      "Epoch 18, CIFAR-10 Batch 2:  TRAIN_COST=0.934 TRAIN_ACC=0.697\tVALI_COST=1.270 VALI_ACC=0.565\n",
      "Epoch 18, CIFAR-10 Batch 3:  TRAIN_COST=0.873 TRAIN_ACC=0.719\tVALI_COST=1.231 VALI_ACC=0.573\n",
      "Epoch 18, CIFAR-10 Batch 4:  TRAIN_COST=0.892 TRAIN_ACC=0.720\tVALI_COST=1.245 VALI_ACC=0.572\n",
      "Epoch 18, CIFAR-10 Batch 5:  TRAIN_COST=0.906 TRAIN_ACC=0.728\tVALI_COST=1.244 VALI_ACC=0.572\n",
      "Epoch 19, CIFAR-10 Batch 1:  TRAIN_COST=0.868 TRAIN_ACC=0.728\tVALI_COST=1.220 VALI_ACC=0.586\n",
      "Epoch 19, CIFAR-10 Batch 2:  TRAIN_COST=0.891 TRAIN_ACC=0.707\tVALI_COST=1.226 VALI_ACC=0.578\n",
      "Epoch 19, CIFAR-10 Batch 3:  TRAIN_COST=0.860 TRAIN_ACC=0.724\tVALI_COST=1.217 VALI_ACC=0.580\n",
      "Epoch 19, CIFAR-10 Batch 4:  TRAIN_COST=0.868 TRAIN_ACC=0.720\tVALI_COST=1.229 VALI_ACC=0.574\n",
      "Epoch 19, CIFAR-10 Batch 5:  TRAIN_COST=0.852 TRAIN_ACC=0.739\tVALI_COST=1.213 VALI_ACC=0.586\n",
      "Epoch 20, CIFAR-10 Batch 1:  TRAIN_COST=0.853 TRAIN_ACC=0.735\tVALI_COST=1.207 VALI_ACC=0.584\n",
      "Epoch 20, CIFAR-10 Batch 2:  TRAIN_COST=0.851 TRAIN_ACC=0.715\tVALI_COST=1.214 VALI_ACC=0.588\n",
      "Epoch 20, CIFAR-10 Batch 3:  TRAIN_COST=0.833 TRAIN_ACC=0.744\tVALI_COST=1.223 VALI_ACC=0.576\n",
      "Epoch 20, CIFAR-10 Batch 4:  TRAIN_COST=0.822 TRAIN_ACC=0.730\tVALI_COST=1.208 VALI_ACC=0.583\n",
      "Epoch 20, CIFAR-10 Batch 5:  TRAIN_COST=0.821 TRAIN_ACC=0.745\tVALI_COST=1.201 VALI_ACC=0.588\n",
      "Epoch 21, CIFAR-10 Batch 1:  TRAIN_COST=0.828 TRAIN_ACC=0.760\tVALI_COST=1.204 VALI_ACC=0.593\n",
      "Epoch 21, CIFAR-10 Batch 2:  TRAIN_COST=0.827 TRAIN_ACC=0.724\tVALI_COST=1.197 VALI_ACC=0.591\n",
      "Epoch 21, CIFAR-10 Batch 3:  TRAIN_COST=0.811 TRAIN_ACC=0.746\tVALI_COST=1.205 VALI_ACC=0.589\n",
      "Epoch 21, CIFAR-10 Batch 4:  TRAIN_COST=0.819 TRAIN_ACC=0.744\tVALI_COST=1.223 VALI_ACC=0.582\n",
      "Epoch 21, CIFAR-10 Batch 5:  TRAIN_COST=0.818 TRAIN_ACC=0.746\tVALI_COST=1.215 VALI_ACC=0.577\n",
      "Epoch 22, CIFAR-10 Batch 1:  TRAIN_COST=0.796 TRAIN_ACC=0.751\tVALI_COST=1.208 VALI_ACC=0.591\n",
      "Epoch 22, CIFAR-10 Batch 2:  TRAIN_COST=0.808 TRAIN_ACC=0.743\tVALI_COST=1.181 VALI_ACC=0.596\n",
      "Epoch 22, CIFAR-10 Batch 3:  TRAIN_COST=0.783 TRAIN_ACC=0.757\tVALI_COST=1.193 VALI_ACC=0.593\n",
      "Epoch 22, CIFAR-10 Batch 4:  TRAIN_COST=0.767 TRAIN_ACC=0.764\tVALI_COST=1.199 VALI_ACC=0.592\n",
      "Epoch 22, CIFAR-10 Batch 5:  TRAIN_COST=0.770 TRAIN_ACC=0.759\tVALI_COST=1.186 VALI_ACC=0.601\n",
      "Epoch 23, CIFAR-10 Batch 1:  TRAIN_COST=0.767 TRAIN_ACC=0.765\tVALI_COST=1.186 VALI_ACC=0.595\n",
      "Epoch 23, CIFAR-10 Batch 2:  TRAIN_COST=0.765 TRAIN_ACC=0.748\tVALI_COST=1.178 VALI_ACC=0.597\n",
      "Epoch 23, CIFAR-10 Batch 3:  TRAIN_COST=0.769 TRAIN_ACC=0.771\tVALI_COST=1.177 VALI_ACC=0.604\n",
      "Epoch 23, CIFAR-10 Batch 4:  TRAIN_COST=0.731 TRAIN_ACC=0.776\tVALI_COST=1.188 VALI_ACC=0.596\n",
      "Epoch 23, CIFAR-10 Batch 5:  TRAIN_COST=0.730 TRAIN_ACC=0.776\tVALI_COST=1.172 VALI_ACC=0.599\n",
      "Epoch 24, CIFAR-10 Batch 1:  TRAIN_COST=0.734 TRAIN_ACC=0.783\tVALI_COST=1.189 VALI_ACC=0.595\n",
      "Epoch 24, CIFAR-10 Batch 2:  TRAIN_COST=0.737 TRAIN_ACC=0.743\tVALI_COST=1.177 VALI_ACC=0.604\n",
      "Epoch 24, CIFAR-10 Batch 3:  TRAIN_COST=0.731 TRAIN_ACC=0.777\tVALI_COST=1.186 VALI_ACC=0.602\n",
      "Epoch 24, CIFAR-10 Batch 4:  TRAIN_COST=0.701 TRAIN_ACC=0.769\tVALI_COST=1.169 VALI_ACC=0.603\n",
      "Epoch 24, CIFAR-10 Batch 5:  TRAIN_COST=0.698 TRAIN_ACC=0.785\tVALI_COST=1.182 VALI_ACC=0.593\n",
      "Epoch 25, CIFAR-10 Batch 1:  TRAIN_COST=0.726 TRAIN_ACC=0.790\tVALI_COST=1.198 VALI_ACC=0.598\n",
      "Epoch 25, CIFAR-10 Batch 2:  TRAIN_COST=0.728 TRAIN_ACC=0.762\tVALI_COST=1.181 VALI_ACC=0.599\n",
      "Epoch 25, CIFAR-10 Batch 3:  TRAIN_COST=0.697 TRAIN_ACC=0.788\tVALI_COST=1.166 VALI_ACC=0.606\n",
      "Epoch 25, CIFAR-10 Batch 4:  TRAIN_COST=0.674 TRAIN_ACC=0.795\tVALI_COST=1.176 VALI_ACC=0.602\n",
      "Epoch 25, CIFAR-10 Batch 5:  TRAIN_COST=0.684 TRAIN_ACC=0.803\tVALI_COST=1.184 VALI_ACC=0.596\n",
      "Epoch 26, CIFAR-10 Batch 1:  TRAIN_COST=0.686 TRAIN_ACC=0.797\tVALI_COST=1.187 VALI_ACC=0.607\n",
      "Epoch 26, CIFAR-10 Batch 2:  TRAIN_COST=0.699 TRAIN_ACC=0.766\tVALI_COST=1.189 VALI_ACC=0.595\n",
      "Epoch 26, CIFAR-10 Batch 3:  TRAIN_COST=0.679 TRAIN_ACC=0.811\tVALI_COST=1.166 VALI_ACC=0.611\n",
      "Epoch 26, CIFAR-10 Batch 4:  TRAIN_COST=0.656 TRAIN_ACC=0.808\tVALI_COST=1.170 VALI_ACC=0.606\n",
      "Epoch 26, CIFAR-10 Batch 5:  TRAIN_COST=0.652 TRAIN_ACC=0.788\tVALI_COST=1.177 VALI_ACC=0.602\n",
      "Epoch 27, CIFAR-10 Batch 1:  TRAIN_COST=0.673 TRAIN_ACC=0.793\tVALI_COST=1.205 VALI_ACC=0.589\n",
      "Epoch 27, CIFAR-10 Batch 2:  TRAIN_COST=0.672 TRAIN_ACC=0.778\tVALI_COST=1.168 VALI_ACC=0.606\n",
      "Epoch 27, CIFAR-10 Batch 3:  TRAIN_COST=0.698 TRAIN_ACC=0.785\tVALI_COST=1.208 VALI_ACC=0.601\n",
      "Epoch 27, CIFAR-10 Batch 4:  TRAIN_COST=0.627 TRAIN_ACC=0.806\tVALI_COST=1.187 VALI_ACC=0.604\n",
      "Epoch 27, CIFAR-10 Batch 5:  TRAIN_COST=0.632 TRAIN_ACC=0.813\tVALI_COST=1.199 VALI_ACC=0.599\n",
      "Epoch 28, CIFAR-10 Batch 1:  TRAIN_COST=0.646 TRAIN_ACC=0.807\tVALI_COST=1.197 VALI_ACC=0.604\n",
      "Epoch 28, CIFAR-10 Batch 2:  TRAIN_COST=0.656 TRAIN_ACC=0.786\tVALI_COST=1.170 VALI_ACC=0.612\n",
      "Epoch 28, CIFAR-10 Batch 3:  TRAIN_COST=0.649 TRAIN_ACC=0.813\tVALI_COST=1.172 VALI_ACC=0.609\n",
      "Epoch 28, CIFAR-10 Batch 4:  TRAIN_COST=0.612 TRAIN_ACC=0.823\tVALI_COST=1.174 VALI_ACC=0.603\n",
      "Epoch 28, CIFAR-10 Batch 5:  TRAIN_COST=0.594 TRAIN_ACC=0.823\tVALI_COST=1.187 VALI_ACC=0.604\n",
      "Epoch 29, CIFAR-10 Batch 1:  TRAIN_COST=0.600 TRAIN_ACC=0.827\tVALI_COST=1.175 VALI_ACC=0.604\n",
      "Epoch 29, CIFAR-10 Batch 2:  TRAIN_COST=0.641 TRAIN_ACC=0.795\tVALI_COST=1.191 VALI_ACC=0.607\n",
      "Epoch 29, CIFAR-10 Batch 3:  TRAIN_COST=0.641 TRAIN_ACC=0.800\tVALI_COST=1.186 VALI_ACC=0.606\n",
      "Epoch 29, CIFAR-10 Batch 4:  TRAIN_COST=0.616 TRAIN_ACC=0.809\tVALI_COST=1.185 VALI_ACC=0.591\n",
      "Epoch 29, CIFAR-10 Batch 5:  TRAIN_COST=0.600 TRAIN_ACC=0.811\tVALI_COST=1.201 VALI_ACC=0.599\n",
      "Epoch 30, CIFAR-10 Batch 1:  TRAIN_COST=0.612 TRAIN_ACC=0.832\tVALI_COST=1.176 VALI_ACC=0.605\n",
      "Epoch 30, CIFAR-10 Batch 2:  TRAIN_COST=0.638 TRAIN_ACC=0.795\tVALI_COST=1.194 VALI_ACC=0.606\n",
      "Epoch 30, CIFAR-10 Batch 3:  TRAIN_COST=0.608 TRAIN_ACC=0.822\tVALI_COST=1.164 VALI_ACC=0.608\n",
      "Epoch 30, CIFAR-10 Batch 4:  TRAIN_COST=0.579 TRAIN_ACC=0.824\tVALI_COST=1.171 VALI_ACC=0.609\n",
      "Epoch 30, CIFAR-10 Batch 5:  TRAIN_COST=0.567 TRAIN_ACC=0.824\tVALI_COST=1.194 VALI_ACC=0.599\n"
     ]
    }
   ],
   "source": [
    "\"\"\"\n",
    "DON'T MODIFY ANYTHING IN THIS CELL\n",
    "\"\"\"\n",
    "save_model_path = './image_classification'\n",
    "\n",
    "print('Training...')\n",
    "with tf.Session() as sess:\n",
    "    # Initializing the variables\n",
    "    sess.run(tf.global_variables_initializer())\n",
    "    \n",
    "    # Training cycle\n",
    "    for epoch in range(epochs):\n",
    "        # Loop over all batches\n",
    "        n_batches = 5\n",
    "        for batch_i in range(1, n_batches + 1):\n",
    "            for batch_features, batch_labels in helper.load_preprocess_training_batch(batch_i, batch_size):\n",
    "                train_neural_network(sess, optimizer, keep_probability, batch_features, batch_labels)\n",
    "            print('Epoch {:>2}, CIFAR-10 Batch {}:  '.format(epoch + 1, batch_i), end='')\n",
    "            print_stats(sess, batch_features, batch_labels, cost, accuracy)\n",
    "            \n",
    "    # Save Model\n",
    "    saver = tf.train.Saver()\n",
    "    save_path = saver.save(sess, save_model_path)"
   ]
  },
  {
   "cell_type": "markdown",
   "metadata": {
    "deletable": true,
    "editable": true
   },
   "source": [
    "# Checkpoint\n",
    "The model has been saved to disk.\n",
    "## Test Model\n",
    "Test your model against the test dataset.  This will be your final accuracy. You should have an accuracy greater than 50%. If you don't, keep tweaking the model architecture and parameters."
   ]
  },
  {
   "cell_type": "code",
   "execution_count": 18,
   "metadata": {
    "collapsed": false,
    "deletable": true,
    "editable": true
   },
   "outputs": [
    {
     "name": "stdout",
     "output_type": "stream",
     "text": [
      "Testing Accuracy: 0.6097431540489197\n",
      "\n"
     ]
    },
    {
     "data": {
      "image/png": "[encoded data removed]",
      "text/plain": [
       "<matplotlib.figure.Figure at 0x125bf71d0>"
      ]
     },
     "metadata": {
      "image/png": {
       "height": 319,
       "width": 355
      }
     },
     "output_type": "display_data"
    }
   ],
   "source": [
    "\"\"\"\n",
    "DON'T MODIFY ANYTHING IN THIS CELL\n",
    "\"\"\"\n",
    "%matplotlib inline\n",
    "%config InlineBackend.figure_format = 'retina'\n",
    "\n",
    "import tensorflow as tf\n",
    "import pickle\n",
    "import helper\n",
    "import random\n",
    "\n",
    "# Set batch size if not already set\n",
    "try:\n",
    "    if batch_size:\n",
    "        pass\n",
    "except NameError:\n",
    "    batch_size = 64\n",
    "\n",
    "save_model_path = './image_classification'\n",
    "n_samples = 4\n",
    "top_n_predictions = 3\n",
    "\n",
    "def test_model():\n",
    "    \"\"\"\n",
    "    Test the saved model against the test dataset\n",
    "    \"\"\"\n",
    "\n",
    "    test_features, test_labels = pickle.load(open('preprocess_training.p', mode='rb'))\n",
    "    loaded_graph = tf.Graph()\n",
    "\n",
    "    with tf.Session(graph=loaded_graph) as sess:\n",
    "        # Load model\n",
    "        loader = tf.train.import_meta_graph(save_model_path + '.meta')\n",
    "        loader.restore(sess, save_model_path)\n",
    "\n",
    "        # Get Tensors from loaded model\n",
    "        loaded_x = loaded_graph.get_tensor_by_name('x:0')\n",
    "        loaded_y = loaded_graph.get_tensor_by_name('y:0')\n",
    "        loaded_keep_prob = loaded_graph.get_tensor_by_name('keep_prob:0')\n",
    "        loaded_logits = loaded_graph.get_tensor_by_name('logits:0')\n",
    "        loaded_acc = loaded_graph.get_tensor_by_name('accuracy:0')\n",
    "        \n",
    "        # Get accuracy in batches for memory limitations\n",
    "        test_batch_acc_total = 0\n",
    "        test_batch_count = 0\n",
    "        \n",
    "        for train_feature_batch, train_label_batch in helper.batch_features_labels(test_features, test_labels, batch_size):\n",
    "            test_batch_acc_total += sess.run(\n",
    "                loaded_acc,\n",
    "                feed_dict={loaded_x: train_feature_batch, loaded_y: train_label_batch, loaded_keep_prob: 1.0})\n",
    "            test_batch_count += 1\n",
    "\n",
    "        print('Testing Accuracy: {}\\n'.format(test_batch_acc_total/test_batch_count))\n",
    "\n",
    "        # Print Random Samples\n",
    "        random_test_features, random_test_labels = tuple(zip(*random.sample(list(zip(test_features, test_labels)), n_samples)))\n",
    "        random_test_predictions = sess.run(\n",
    "            tf.nn.top_k(tf.nn.softmax(loaded_logits), top_n_predictions),\n",
    "            feed_dict={loaded_x: random_test_features, loaded_y: random_test_labels, loaded_keep_prob: 1.0})\n",
    "        helper.display_image_predictions(random_test_features, random_test_labels, random_test_predictions)\n",
    "\n",
    "\n",
    "test_model()"
   ]
  },
  {
   "cell_type": "markdown",
   "metadata": {
    "deletable": true,
    "editable": true
   },
   "source": [
    "## Why 50-70% Accuracy?\n",
    "You might be wondering why you can't get an accuracy any higher. First things first, 50% isn't bad for a simple CNN.  Pure guessing would get you 10% accuracy. However, you might notice people are getting scores [well above 70%](http://rodrigob.github.io/are_we_there_yet/build/classification_datasets_results.html#43494641522d3130).  That's because we haven't taught you all there is to know about neural networks. We still need to cover a few more techniques.\n",
    "## Submitting This Project\n",
    "When submitting this project, make sure to run all the cells before saving the notebook.  Save the notebook file as \"dlnd_image_classification.ipynb\" and save it as a HTML file under \"File\" -> \"Download as\".  Include the \"helper.py\" and \"problem_unittests.py\" files in your submission."
   ]
  }
 ],
 "metadata": {
  "anaconda-cloud": {},
  "kernelspec": {
   "display_name": "Python 3",
   "language": "python",
   "name": "python3"
  },
  "language_info": {
   "codemirror_mode": {
    "name": "ipython",
    "version": 3
   },
   "file_extension": ".py",
   "mimetype": "text/x-python",
   "name": "python",
   "nbconvert_exporter": "python",
   "pygments_lexer": "ipython3",
   "version": "3.6.0"
  }
 },
 "nbformat": 4,
 "nbformat_minor": 0
}
